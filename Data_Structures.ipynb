{
  "nbformat": 4,
  "nbformat_minor": 0,
  "metadata": {
    "colab": {
      "provenance": []
    },
    "kernelspec": {
      "name": "python3",
      "display_name": "Python 3"
    },
    "language_info": {
      "name": "python"
    }
  },
  "cells": [
    {
      "cell_type": "markdown",
      "source": [
        "# **Arrays/List**"
      ],
      "metadata": {
        "id": "Y0EA6tb8OZo6"
      }
    },
    {
      "cell_type": "code",
      "execution_count": 2,
      "metadata": {
        "id": "FJ10VYN5OUFw"
      },
      "outputs": [],
      "source": [
        "my_list = [1, 2, 3, 4]"
      ]
    },
    {
      "cell_type": "code",
      "source": [
        "my_list[0]"
      ],
      "metadata": {
        "colab": {
          "base_uri": "https://localhost:8080/"
        },
        "id": "KPFiNyUjOglB",
        "outputId": "16b675be-0632-4eb4-de57-f17558bf7718"
      },
      "execution_count": 3,
      "outputs": [
        {
          "output_type": "execute_result",
          "data": {
            "text/plain": [
              "1"
            ]
          },
          "metadata": {},
          "execution_count": 3
        }
      ]
    },
    {
      "cell_type": "code",
      "source": [
        "my_list[2]"
      ],
      "metadata": {
        "colab": {
          "base_uri": "https://localhost:8080/"
        },
        "id": "dlrG2nf2OkYs",
        "outputId": "f69d2140-ac66-430e-a71a-7fc4a931afa5"
      },
      "execution_count": 4,
      "outputs": [
        {
          "output_type": "execute_result",
          "data": {
            "text/plain": [
              "3"
            ]
          },
          "metadata": {},
          "execution_count": 4
        }
      ]
    },
    {
      "cell_type": "markdown",
      "source": [
        "# **Stack (LIFO - Last In, First Out)**"
      ],
      "metadata": {
        "id": "avetA_xLOoo9"
      }
    },
    {
      "cell_type": "code",
      "source": [
        "class Stack():\n",
        "    def __init__(self):\n",
        "        self.stack = []\n",
        "\n",
        "    def push(self, data):\n",
        "        self.stack.append(data)\n",
        "\n",
        "    def pop(self):\n",
        "        self.stack.pop()\n",
        "    def peek(self):\n",
        "        x = len(self.stack)\n",
        "        return self.stack[x-1]\n"
      ],
      "metadata": {
        "id": "djHaI4KIOn4K"
      },
      "execution_count": 5,
      "outputs": []
    },
    {
      "cell_type": "code",
      "source": [
        "a = Stack()\n",
        "a.push(1)\n",
        "a.push(2)\n",
        "a.push(3)\n",
        "a.push(4)\n",
        "a.push(6)\n",
        "\n",
        "print (a.stack)\n",
        "print (\"Top value after push: \", a.peek())\n",
        "a.pop()\n",
        "a.pop()\n",
        "\n",
        "print (a.stack)\n",
        "print (\"Top value after pop: \", a.peek())"
      ],
      "metadata": {
        "colab": {
          "base_uri": "https://localhost:8080/"
        },
        "id": "YRVIGN_oO6YF",
        "outputId": "4321be9b-302a-4ea1-98a5-4ba5da8d61e2"
      },
      "execution_count": 6,
      "outputs": [
        {
          "output_type": "stream",
          "name": "stdout",
          "text": [
            "[1, 2, 3, 4, 6]\n",
            "Top value after push:  6\n",
            "[1, 2, 3]\n",
            "Top value after pop:  3\n"
          ]
        }
      ]
    },
    {
      "cell_type": "markdown",
      "source": [
        "# **Queues (FIFO - First In, First Out)**"
      ],
      "metadata": {
        "id": "cShgywVCO_Hv"
      }
    },
    {
      "cell_type": "code",
      "source": [
        "class Queue:\n",
        "    def __init__(self):\n",
        "        self.queue = []\n",
        "    def enqueue(self, data):\n",
        "        self.queue.append(data)\n",
        "    def dequeue(self):\n",
        "        self.queue.pop(0)"
      ],
      "metadata": {
        "id": "zWP_YkSXPQYm"
      },
      "execution_count": 7,
      "outputs": []
    },
    {
      "cell_type": "code",
      "source": [
        "a = Queue()\n",
        "a.enqueue(1)\n",
        "a.enqueue(2)\n",
        "a.enqueue(37)\n",
        "a.enqueue(43)\n",
        "a.enqueue(58)\n",
        "print (\"values in queue after insertion: \", a.queue)\n",
        "a.dequeue()\n",
        "a.dequeue()\n",
        "print (\"values in queue after deletion: \", a.queue)"
      ],
      "metadata": {
        "colab": {
          "base_uri": "https://localhost:8080/"
        },
        "id": "LieFwM3iPRvu",
        "outputId": "bae8dfde-5224-47e4-9209-6828d189b76e"
      },
      "execution_count": 8,
      "outputs": [
        {
          "output_type": "stream",
          "name": "stdout",
          "text": [
            "values in queue after insertion:  [1, 2, 37, 43, 58]\n",
            "values in queue after deletion:  [37, 43, 58]\n"
          ]
        }
      ]
    },
    {
      "cell_type": "markdown",
      "source": [
        "# **Linked Lists**"
      ],
      "metadata": {
        "id": "mboPQIzoPGNJ"
      }
    },
    {
      "cell_type": "markdown",
      "source": [
        "Singly Linked Lists"
      ],
      "metadata": {
        "id": "0Q4O0-CDNlcs"
      }
    },
    {
      "cell_type": "code",
      "source": [
        "class Node:\n",
        "    def __init__(self, data):\n",
        "        self.data = data\n",
        "        self.next = None\n",
        "\n",
        "\n",
        "class LinkedList:\n",
        "    def __init__(self):\n",
        "        self.head = None\n",
        "\n",
        "    def add_beginning(self, newData):\n",
        "        temp = self.head\n",
        "        self.head = Node(newData)\n",
        "        self.head.next = temp\n",
        "\n",
        "    def add_middle (self, node, newData):\n",
        "        if node is None:\n",
        "            print (\"The given node is absent\")\n",
        "            return\n",
        "        newNode = Node(newData)\n",
        "        newNode.next = node.next\n",
        "        node.next = newNode\n",
        "\n",
        "    def add_end(self, newData):\n",
        "        newNode = Node(newData)\n",
        "        temp = self.head\n",
        "        while (temp.next):\n",
        "            temp = temp.next\n",
        "        temp.next = newNode\n",
        "\n",
        "    def delete(self, node):\n",
        "        node.data = node.next.data\n",
        "        node.next = node.next.next"
      ],
      "metadata": {
        "id": "7Mk3XH9IPcF0"
      },
      "execution_count": 1,
      "outputs": []
    },
    {
      "cell_type": "code",
      "source": [
        "a = LinkedList()\n",
        "a.head = Node(1)\n",
        "b = Node(2)\n",
        "c = Node(3)\n",
        "b.next = c\n",
        "a.head.next = b\n",
        "a.add_beginning(4)\n",
        "a.add_beginning(4)\n",
        "a.add_middle(b, 5)\n",
        "a.add_end(6)\n",
        "a.delete(b)\n",
        "while a.head != None:\n",
        "    print (a.head.data)\n",
        "    a.head = a.head.next"
      ],
      "metadata": {
        "colab": {
          "base_uri": "https://localhost:8080/"
        },
        "id": "dnQrQAC_OBtv",
        "outputId": "b4b61293-3c90-495e-8c3f-b506e44dae14"
      },
      "execution_count": 2,
      "outputs": [
        {
          "output_type": "stream",
          "name": "stdout",
          "text": [
            "4\n",
            "4\n",
            "1\n",
            "5\n",
            "3\n",
            "6\n"
          ]
        }
      ]
    },
    {
      "cell_type": "markdown",
      "source": [
        "Doubly Linked List"
      ],
      "metadata": {
        "id": "t0e8PMI6NqWo"
      }
    },
    {
      "cell_type": "code",
      "source": [
        "class Node:\n",
        "    def __init__(self, data):\n",
        "        self.data = data\n",
        "        self.next = None\n",
        "        self.prev = None\n",
        "\n",
        "\n",
        "class LinkedList:\n",
        "    def __init__(self):\n",
        "        self.head = None\n",
        "\n",
        "    def insert(self, data):\n",
        "        newNode = Node(data)\n",
        "        newNode.next = self.head\n",
        "        if self.head is not None:\n",
        "            self.head.prev = newNode\n",
        "        self.head = newNode\n",
        "\n",
        "    def display_data(self):\n",
        "        while self.head is not None:\n",
        "            print(self.head.data)\n",
        "            self.head = self.head.next\n",
        "\n",
        "    def add_beginning(self, newData):\n",
        "        temp = self.head\n",
        "        self.head = Node(newData)\n",
        "        self.head.next = temp\n",
        "\n",
        "    def add_middle (self, node, newData):\n",
        "        if node is None:\n",
        "            print (\"The given node is absent\")\n",
        "            return\n",
        "        newNode = Node(newData)\n",
        "        newNode.next = node.next\n",
        "        node.next = newNode\n",
        "\n",
        "    def add_end(self, newData):\n",
        "        newNode = Node(newData)\n",
        "        temp = self.head\n",
        "        while (temp.next):\n",
        "            temp = temp.next\n",
        "        temp.next = newNode\n",
        "\n",
        "    def delete(self, node):\n",
        "        node.data = node.next.data\n",
        "        node.next = node.next.next"
      ],
      "metadata": {
        "id": "ohC_U11qNveC"
      },
      "execution_count": 3,
      "outputs": []
    },
    {
      "cell_type": "code",
      "source": [
        "a = LinkedList()\n",
        "a.head = Node(1)\n",
        "b = Node(2)\n",
        "c = Node(3)\n",
        "b.next = c\n",
        "a.head.next = b\n",
        "a.add_beginning(4)\n",
        "a.add_beginning(4)\n",
        "a.add_middle(b, 5)\n",
        "a.add_end(6)\n",
        "a.delete(b)\n",
        "while a.head != None:\n",
        "    print (a.head.data)\n",
        "    a.head = a.head.next\n",
        ""
      ],
      "metadata": {
        "colab": {
          "base_uri": "https://localhost:8080/"
        },
        "id": "NBfYSPybRbQl",
        "outputId": "87f6d243-ba3c-4776-8b5f-e932d4e51352"
      },
      "execution_count": 4,
      "outputs": [
        {
          "output_type": "stream",
          "name": "stdout",
          "text": [
            "4\n",
            "4\n",
            "1\n",
            "5\n",
            "3\n",
            "6\n"
          ]
        }
      ]
    },
    {
      "cell_type": "markdown",
      "source": [
        "Circular Linked List"
      ],
      "metadata": {
        "id": "eOaTHgChNv5D"
      }
    },
    {
      "cell_type": "code",
      "source": [
        "class Node:\n",
        "    def __init__(self, data):\n",
        "        self.data = data\n",
        "        self.next = None\n",
        "\n",
        "\n",
        "class LinkedList:\n",
        "    def __init__(self):\n",
        "        self.head = None\n",
        "\n",
        "    def get_end_node(self):\n",
        "        current = self.head\n",
        "        while current.next is not self.head:\n",
        "            current = current.next\n",
        "        return current"
      ],
      "metadata": {
        "id": "XJ9ZVr_1NzAC"
      },
      "execution_count": 5,
      "outputs": []
    },
    {
      "cell_type": "code",
      "source": [
        "a = LinkedList()\n",
        "a.head = Node(1)\n",
        "b = Node(2)\n",
        "c = Node(3)\n",
        "b.next = c\n",
        "c.next = a.head\n",
        "a.head.next = b\n",
        "\n",
        "\n",
        "\n",
        "if a.get_end_node().next == a.head:\n",
        "    print (\"The linked list is circular\")\n",
        "else:\n",
        "    print (\"The linked list is not circular\")\n",
        "\n",
        "current = a.head\n",
        "print (current.data)\n",
        "while current.next != a.head:\n",
        "    current = current.next\n",
        "    print (current.data)"
      ],
      "metadata": {
        "colab": {
          "base_uri": "https://localhost:8080/"
        },
        "id": "WOHx7ZFIRipX",
        "outputId": "84ca8416-d72f-4ebf-9d7a-1050cf647eae"
      },
      "execution_count": 6,
      "outputs": [
        {
          "output_type": "stream",
          "name": "stdout",
          "text": [
            "The linked list is circular\n",
            "1\n",
            "2\n",
            "3\n"
          ]
        }
      ]
    },
    {
      "cell_type": "markdown",
      "source": [
        "# **Trees**"
      ],
      "metadata": {
        "id": "dZBw-5n9Pcgj"
      }
    },
    {
      "cell_type": "code",
      "source": [
        "class Node:\n",
        "    def __init__(self, data):\n",
        "        self.data = data\n",
        "        self.left = None\n",
        "        self.right = None\n",
        "\n",
        "class BinaryTree:\n",
        "    def __init__(self):\n",
        "        self.root = None\n",
        "\n",
        "    def insert(self, data):\n",
        "        if self.root is None:\n",
        "            self.root = Node(data)\n",
        "        else:\n",
        "            self._insert(self.root, data)\n",
        "\n",
        "    def _insert(self, current, data):\n",
        "        if data < current.data:\n",
        "            if current.left is None:\n",
        "                current.left = Node(data)\n",
        "            else:\n",
        "                self._insert(current.left, data)\n",
        "        else:\n",
        "            if current.right is None:\n",
        "                current.right = Node(data)\n",
        "            else:\n",
        "                self._insert(current.right, data)\n",
        "\n",
        "    def inorder_traversal(self, node):\n",
        "        if node is not None:\n",
        "            self.inorder_traversal(node.left)\n",
        "            print(node.data, end=\" \")\n",
        "            self.inorder_traversal(node.right)\n",
        "\n",
        "    def search(self, data):\n",
        "        return self._search(self.root, data)\n",
        "\n",
        "    def _search(self, current, data):\n",
        "        if current is None:\n",
        "            return False\n",
        "        if current.data == data:\n",
        "            return True\n",
        "        elif data < current.data:\n",
        "            return self._search(current.left, data)\n",
        "        else:\n",
        "            return self._search(current.right, data)\n"
      ],
      "metadata": {
        "id": "cDjJWx7JPgJu"
      },
      "execution_count": 2,
      "outputs": []
    },
    {
      "cell_type": "code",
      "source": [
        "# Example: Operations and Usage\n",
        "tree = BinaryTree()\n",
        "tree.insert(10)\n",
        "tree.insert(5)\n",
        "tree.insert(15)\n",
        "tree.insert(7)\n",
        "\n",
        "print(\"Inorder Traversal:\")\n",
        "tree.inorder_traversal(tree.root)  # Output: 5 7 10 15\n",
        "\n",
        "print(\"\\nSearch 7:\", tree.search(7))  # Output: True\n",
        "print(\"Search 20:\", tree.search(20))  # Output: False"
      ],
      "metadata": {
        "colab": {
          "base_uri": "https://localhost:8080/"
        },
        "id": "56RLUgPvkHZE",
        "outputId": "e03c2e46-5246-42d8-8255-7c3f682e4dca"
      },
      "execution_count": 3,
      "outputs": [
        {
          "output_type": "stream",
          "name": "stdout",
          "text": [
            "Inorder Traversal:\n",
            "5 7 10 15 \n",
            "Search 7: True\n",
            "Search 20: False\n"
          ]
        }
      ]
    },
    {
      "cell_type": "markdown",
      "source": [
        "# **Graphs**"
      ],
      "metadata": {
        "id": "tos2z9OBPgjq"
      }
    },
    {
      "cell_type": "code",
      "source": [
        "class Graph:\n",
        "    def __init__(self):\n",
        "        self.adjacency_list = {}\n",
        "\n",
        "    def add_vertex(self, vertex):\n",
        "        if vertex not in self.adjacency_list:\n",
        "            self.adjacency_list[vertex] = []\n",
        "\n",
        "    def add_edge(self, v1, v2):\n",
        "        if v1 in self.adjacency_list and v2 in self.adjacency_list:\n",
        "            self.adjacency_list[v1].append(v2)\n",
        "            self.adjacency_list[v2].append(v1)\n",
        "\n",
        "    def display(self):\n",
        "        for vertex, neighbors in self.adjacency_list.items():\n",
        "            print(f\"{vertex}: {neighbors}\")\n",
        "\n",
        "    def bfs(self, start_vertex):\n",
        "        visited = set()\n",
        "        queue = [start_vertex]\n",
        "        visited.add(start_vertex)\n",
        "\n",
        "        while queue:\n",
        "            current = queue.pop(0)\n",
        "            print(current, end=\" \")\n",
        "\n",
        "            for neighbor in self.adjacency_list[current]:\n",
        "                if neighbor not in visited:\n",
        "                    visited.add(neighbor)\n",
        "                    queue.append(neighbor)\n",
        "\n"
      ],
      "metadata": {
        "id": "G2FVM-02PmHv"
      },
      "execution_count": 4,
      "outputs": []
    },
    {
      "cell_type": "code",
      "source": [
        "# Example: Operations and Usage\n",
        "graph = Graph()\n",
        "graph.add_vertex(\"A\")\n",
        "graph.add_vertex(\"B\")\n",
        "graph.add_vertex(\"C\")\n",
        "graph.add_vertex(\"D\")\n",
        "\n",
        "graph.add_edge(\"A\", \"B\")\n",
        "graph.add_edge(\"A\", \"C\")\n",
        "graph.add_edge(\"B\", \"D\")\n",
        "graph.add_edge(\"C\", \"D\")\n",
        "\n",
        "graph.display()\n",
        "# Output:\n",
        "# A: ['B', 'C']\n",
        "# B: ['A', 'D']\n",
        "# C: ['A', 'D']\n",
        "# D: ['B', 'C']\n",
        "\n",
        "print(\"\\nBFS Traversal:\")\n",
        "graph.bfs(\"A\")  # Output: A B C D"
      ],
      "metadata": {
        "colab": {
          "base_uri": "https://localhost:8080/"
        },
        "id": "gOhAmtWTklYd",
        "outputId": "ee774afd-85e9-4898-b1b2-201ac8414b68"
      },
      "execution_count": 5,
      "outputs": [
        {
          "output_type": "stream",
          "name": "stdout",
          "text": [
            "A: ['B', 'C']\n",
            "B: ['A', 'D']\n",
            "C: ['A', 'D']\n",
            "D: ['B', 'C']\n",
            "\n",
            "BFS Traversal:\n",
            "A B C D "
          ]
        }
      ]
    },
    {
      "cell_type": "code",
      "source": [],
      "metadata": {
        "id": "AtzAN4HQlYsE"
      },
      "execution_count": null,
      "outputs": []
    },
    {
      "cell_type": "markdown",
      "source": [
        "# **HashMap**"
      ],
      "metadata": {
        "id": "VgU61dBNPozE"
      }
    },
    {
      "cell_type": "code",
      "source": [
        "class HashMap:\n",
        "    def __init__(self, size=10):\n",
        "        self.size = size\n",
        "        self.map = [[] for _ in range(size)]\n",
        "\n",
        "    def _hash(self, key):\n",
        "        return hash(key) % self.size\n",
        "\n",
        "    def insert(self, key, value):\n",
        "        index = self._hash(key)\n",
        "        for pair in self.map[index]:\n",
        "            if pair[0] == key:\n",
        "                pair[1] = value\n",
        "                return\n",
        "        self.map[index].append([key, value])\n",
        "\n",
        "    def get(self, key):\n",
        "        index = self._hash(key)\n",
        "        for pair in self.map[index]:\n",
        "            if pair[0] == key:\n",
        "                return pair[1]\n",
        "        return None\n",
        "\n",
        "    def delete(self, key):\n",
        "        index = self._hash(key)\n",
        "        for pair in self.map[index]:\n",
        "            if pair[0] == key:\n",
        "                self.map[index].remove(pair)\n",
        "                return True\n",
        "        return False\n",
        "\n",
        "    def display(self):\n",
        "        for i, bucket in enumerate(self.map):\n",
        "            print(f\"Bucket {i}: {bucket}\")\n"
      ],
      "metadata": {
        "id": "GjXYoCTQPrdY"
      },
      "execution_count": 6,
      "outputs": []
    },
    {
      "cell_type": "code",
      "source": [
        "\n",
        "# Example: Operations and Usage\n",
        "hash_map = HashMap()\n",
        "hash_map.insert(\"name\", \"Justin\")\n",
        "hash_map.insert(\"age\", 25)\n",
        "hash_map.insert(\"city\", \"NYC\")\n",
        "\n",
        "hash_map.display()\n",
        "# Output:\n",
        "# Bucket 0: []\n",
        "# Bucket 1: [['city', 'NYC']]\n",
        "# Bucket 2: []\n",
        "# ...\n",
        "# Bucket 7: [['name', 'Justin']]\n",
        "# Bucket 8: [['age', 25]]\n",
        "\n",
        "print(\"Get 'name':\", hash_map.get(\"name\"))  # Output: Justin\n",
        "hash_map.delete(\"age\")\n",
        "print(\"After deleting 'age':\")\n",
        "hash_map.display()"
      ],
      "metadata": {
        "colab": {
          "base_uri": "https://localhost:8080/"
        },
        "id": "oZwz8Yo3lwcc",
        "outputId": "44d7c5b1-504f-4d7d-f498-e6cad33154d2"
      },
      "execution_count": 7,
      "outputs": [
        {
          "output_type": "stream",
          "name": "stdout",
          "text": [
            "Bucket 0: []\n",
            "Bucket 1: []\n",
            "Bucket 2: [['age', 25]]\n",
            "Bucket 3: []\n",
            "Bucket 4: []\n",
            "Bucket 5: [['name', 'Justin']]\n",
            "Bucket 6: [['city', 'NYC']]\n",
            "Bucket 7: []\n",
            "Bucket 8: []\n",
            "Bucket 9: []\n",
            "Get 'name': Justin\n",
            "After deleting 'age':\n",
            "Bucket 0: []\n",
            "Bucket 1: []\n",
            "Bucket 2: []\n",
            "Bucket 3: []\n",
            "Bucket 4: []\n",
            "Bucket 5: [['name', 'Justin']]\n",
            "Bucket 6: [['city', 'NYC']]\n",
            "Bucket 7: []\n",
            "Bucket 8: []\n",
            "Bucket 9: []\n"
          ]
        }
      ]
    },
    {
      "cell_type": "markdown",
      "source": [
        "# **Tries**"
      ],
      "metadata": {
        "id": "nnrTj8HrPrxM"
      }
    },
    {
      "cell_type": "code",
      "source": [
        "class TrieNode:\n",
        "    def __init__(self):\n",
        "        self.children = {}\n",
        "        self.is_end_of_word = False  # Marks the end of a valid word\n",
        "\n",
        "\n",
        "class Trie:\n",
        "    def __init__(self):\n",
        "        self.root = TrieNode()\n",
        "\n",
        "    def insert(self, word):\n",
        "        \"\"\"\n",
        "        Inserts a word into the trie.\n",
        "        \"\"\"\n",
        "        current = self.root\n",
        "        for char in word:\n",
        "            if char not in current.children:\n",
        "                current.children[char] = TrieNode()\n",
        "            current = current.children[char]\n",
        "        current.is_end_of_word = True\n",
        "\n",
        "    def search(self, word):\n",
        "        \"\"\"\n",
        "        Searches for a word in the trie. Returns True if found, otherwise False.\n",
        "        \"\"\"\n",
        "        current = self.root\n",
        "        for char in word:\n",
        "            if char not in current.children:\n",
        "                return False\n",
        "            current = current.children[char]\n",
        "        return current.is_end_of_word\n",
        "\n",
        "    def starts_with(self, prefix):\n",
        "        \"\"\"\n",
        "        Checks if any word in the trie starts with the given prefix.\n",
        "        \"\"\"\n",
        "        current = self.root\n",
        "        for char in prefix:\n",
        "            if char not in current.children:\n",
        "                return False\n",
        "            current = current.children[char]\n",
        "        return True\n",
        "\n"
      ],
      "metadata": {
        "id": "iOE7I-dyPyUO"
      },
      "execution_count": 8,
      "outputs": []
    },
    {
      "cell_type": "code",
      "source": [
        "# Example: Usage\n",
        "trie = Trie()\n",
        "trie.insert(\"apple\")\n",
        "trie.insert(\"app\")\n",
        "trie.insert(\"banana\")\n",
        "\n",
        "print(\"Search 'apple':\", trie.search(\"apple\"))  # Output: True\n",
        "print(\"Search 'app':\", trie.search(\"app\"))      # Output: True\n",
        "print(\"Search 'appl':\", trie.search(\"appl\"))    # Output: False\n",
        "print(\"Search 'ban':\", trie.search(\"ban\"))    # Output: False\n",
        "print(\"Starts with 'ban':\", trie.starts_with(\"ban\"))  # Output: True\n",
        "print(\"Starts with 'bat':\", trie.starts_with(\"bat\"))  # Output: False\n",
        "print(\"Starts with 'appl':\", trie.starts_with(\"appl\"))  # Output: True"
      ],
      "metadata": {
        "colab": {
          "base_uri": "https://localhost:8080/"
        },
        "id": "Ed1i3qAJw1_Q",
        "outputId": "8e5d5134-f715-4281-c1db-9c5825482f1e"
      },
      "execution_count": 11,
      "outputs": [
        {
          "output_type": "stream",
          "name": "stdout",
          "text": [
            "Search 'apple': True\n",
            "Search 'app': True\n",
            "Search 'appl': False\n",
            "Search 'ban': False\n",
            "Starts with 'ban': True\n",
            "Starts with 'bat': False\n",
            "Starts with 'appl': True\n"
          ]
        }
      ]
    }
  ]
}